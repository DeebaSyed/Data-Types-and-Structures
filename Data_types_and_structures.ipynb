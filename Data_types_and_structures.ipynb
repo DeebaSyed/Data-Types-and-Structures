{
  "nbformat": 4,
  "nbformat_minor": 0,
  "metadata": {
    "colab": {
      "provenance": []
    },
    "kernelspec": {
      "name": "python3",
      "display_name": "Python 3"
    },
    "language_info": {
      "name": "python"
    }
  },
  "cells": [
    {
      "cell_type": "markdown",
      "source": [
        "# Data Types and Structures"
      ],
      "metadata": {
        "id": "5pkJbkhUmtQt"
      }
    },
    {
      "cell_type": "markdown",
      "source": [
        "1. What are data structues and why are they important?\n",
        "    - Data structures are a way of organizing and storing data so that it can be accessed and manipulated efficiently. Data stuctures are important as they make the code efficient and easier to understand."
      ],
      "metadata": {
        "id": "H4V1xl5NnFA-"
      }
    },
    {
      "cell_type": "markdown",
      "source": [
        "2. Explain the difference between mutable and immutable data types with examples?\n",
        "    - Mutable data types are those data types whose state or value can be changed after they are created while immutable data types are those data types whose state or value cannot be changed after they are created. Examples of mutable data type are list,sets and dictionaries. Example of immutable data type are strings and tuples."
      ],
      "metadata": {
        "id": "4X4kQzluoSt2"
      }
    },
    {
      "cell_type": "markdown",
      "source": [
        "3. What are the main differences between lists and tuples in Python?\n",
        "    - Lists and tuples are both ordered collection of items in Python,but they differ in mutability. Lists are mutable which means that their state or value can be changed after creation, while tuples are immutable and cannot be changed or modified after the creation. Lists are defined using square bracket[], while tuple is defined using parentheses()."
      ],
      "metadata": {
        "id": "pbZJ8JvvqirN"
      }
    },
    {
      "cell_type": "markdown",
      "source": [
        "4. Describe how dictionary stores data?\n",
        "    - Dictionary is a data structure that stores data as key value pair. In dictionary keys are unique and immutable."
      ],
      "metadata": {
        "id": "mhQ-ZirYswqk"
      }
    },
    {
      "cell_type": "markdown",
      "source": [
        "5. Why might you use a set instead of a list in Python?\n",
        "    - In Python both sets are lists are used to store collection of elements but they differ from each other that makes them suitable for different use cases. In lists the order of elements are preserved and can be accessed using their index while sets are unoredered and do not maintain the order of elements and ensures that all elements are unique."
      ],
      "metadata": {
        "id": "NSSCV1oxtqUq"
      }
    },
    {
      "cell_type": "markdown",
      "source": [
        "6. what is a string in python and how is it different from a list?\n",
        "    - String is a sequence of character which represents and manipulate textual data. Strings are immutable and are defined using single or double quotes. A List on the other hand is an ordered and mutable sequence of items and can store different data types."
      ],
      "metadata": {
        "id": "PW4fkmLyvssD"
      }
    },
    {
      "cell_type": "markdown",
      "source": [
        "7. How do tuples ensure integrity in Python?\n",
        "    - Tuples are immutable which means that their contents cannot be modified after creation. This ensures that once a tuple is created its data remains consistent and cannot be accidently or intentionally altered. As tuples are immutable they are suitable for use in environment where data integrity is crucial."
      ],
      "metadata": {
        "id": "QJWQ3ZKVxRoM"
      }
    },
    {
      "cell_type": "markdown",
      "source": [
        "8. What is a hash table, and how does it relate to dictionaries in python?\n",
        "    - Hash table is a data structure that stores key value pairs in a dictionary where each key is unique and maps to a specific value."
      ],
      "metadata": {
        "id": "Mag35fqIy22k"
      }
    },
    {
      "cell_type": "markdown",
      "source": [
        "9. Can list contain different data types in Python?\n",
        "     - Yes, list can contain different data types in Python."
      ],
      "metadata": {
        "id": "mBqiClnZz92l"
      }
    },
    {
      "cell_type": "markdown",
      "source": [
        "10. Explain why strings are immutable in Python?\n",
        "    - Strings are immutable in Python which means that their contents cannot be changed after they are created. Benefits of immutability include security, safety and hashability."
      ],
      "metadata": {
        "id": "fCxmEcFO0RyN"
      }
    },
    {
      "cell_type": "markdown",
      "source": [
        "11. What advantages do dictionaries offer over lists for certain tasks?\n",
        "    - Dictionaries and lists are both useful data structures in Python and serve different purposes.The advantages of dictionaries over lists are that dictionaries have faster lookup time than lists especially for larger datasets. Dictionaries provide more efficient way to retrieve data."
      ],
      "metadata": {
        "id": "iULVi4ng1fF3"
      }
    },
    {
      "cell_type": "markdown",
      "source": [
        "12. Describe a scenario where using a tuple would be preferable over a list?\n",
        "     - Tuple would be preferable over a list in a scenario where we dont have to change or modify the elements of data as tuples are immutable and remain consistent. e.g we have to represent the days of the week in a code.There are always 7 days in a week, making a tuple suitable choice."
      ],
      "metadata": {
        "id": "YiFrYJqf3C38"
      }
    },
    {
      "cell_type": "markdown",
      "source": [
        "13. How do sets handle duplicate values in Python?\n",
        "    - Sets only store unique elements which means that duplicates are automatically removed."
      ],
      "metadata": {
        "id": "S-QBwS6g4seQ"
      }
    },
    {
      "cell_type": "markdown",
      "source": [
        "14. How does the 'in' keyword work differently for lists and dictionaries?\n",
        "    - For lists, 'in' keyword checks if a value is present in a list. For dictionaries, 'in' keyword checks if a key is present in the dictionary."
      ],
      "metadata": {
        "id": "JFFXM1_y5vTz"
      }
    },
    {
      "cell_type": "markdown",
      "source": [
        "15. Can you modify the elements of a tuple? Explain why or why not?\n",
        "    - No, we cannot modify the elements of a tuple. Tuples are immutable meaning that their elements cannot be modified after creation. If we try to modify a tuple element we will encounter a error"
      ],
      "metadata": {
        "id": "yUibKArX6ePp"
      }
    },
    {
      "cell_type": "markdown",
      "source": [
        "16. What is a nested dictionary, and give an example of its use case?\n",
        "    - Nested dictionary is a dictionary that contains another dictionary as its value.\n",
        "    e.g Client = {'name':'Sara','age': 30, 'address'{'street': '45 main street', 'city': 'banglore'}}"
      ],
      "metadata": {
        "id": "IeqzKBAf-n4W"
      }
    },
    {
      "cell_type": "markdown",
      "source": [
        "17. Describe the time complexity of accessing elements in a dictionary?\n",
        "    - The time complexity of accessing elements in a dictionary is known as hash table or map. O(1) is the time complexity of a dictionary, meaning it takes constant time regardless of the size of the dictionary."
      ],
      "metadata": {
        "id": "v_dq9vtmAOcv"
      }
    },
    {
      "cell_type": "markdown",
      "source": [
        "18. In what situations are lists preferred over dictionaries?\n",
        "    - Lists are preferred over dictionaries in situations like a numerical computations where we need to perform complex mathematical operations. Lists are suitable for data with frequent insertion or deletion of data or small datasets."
      ],
      "metadata": {
        "id": "VUfnYTWqBvJU"
      }
    },
    {
      "cell_type": "markdown",
      "source": [
        "19. Why are dictionaries considered unordered, and how does that affect data retrieval?\n",
        "   - Dictionaries were implemented as hash tables, which dont inherently maintain order. The iteration order of dictionaries was arbitrary and could change between runs.\n",
        "   This could affect data retrieval as we couldnt rely on the order of elements when iterating over a dictionary."
      ],
      "metadata": {
        "id": "x4lSd19rFUsA"
      }
    },
    {
      "cell_type": "markdown",
      "source": [
        "20. Explain the difference between a list and a dictionary in terms of data retrieval?\n",
        "    - Lists are indexed which means that we can access elements by their position while dictionaries are accessed by keys, which can be strings, integers etc."
      ],
      "metadata": {
        "id": "LUXpSbgpGcGt"
      }
    },
    {
      "cell_type": "code",
      "source": [
        "# 1. Write a code to create a string with your name and print it\n",
        "\n",
        "name =\"Deeba\"\n",
        "print(name)"
      ],
      "metadata": {
        "colab": {
          "base_uri": "https://localhost:8080/"
        },
        "id": "WC9Bm4obHzWM",
        "outputId": "1171d724-517f-4ed2-a6a4-efc1f75cb19c"
      },
      "execution_count": 1,
      "outputs": [
        {
          "output_type": "stream",
          "name": "stdout",
          "text": [
            "Deeba\n"
          ]
        }
      ]
    },
    {
      "cell_type": "code",
      "source": [
        "# 2. write a code to find the length of the string \"Hello world\".\n",
        "word = \"Hello world\"\n",
        "print(len(word))"
      ],
      "metadata": {
        "colab": {
          "base_uri": "https://localhost:8080/"
        },
        "id": "n7H637gZID20",
        "outputId": "129973c8-74fb-4f9b-91f9-883147ca5815"
      },
      "execution_count": 2,
      "outputs": [
        {
          "output_type": "stream",
          "name": "stdout",
          "text": [
            "11\n"
          ]
        }
      ]
    },
    {
      "cell_type": "code",
      "source": [
        "# 3. Write a code to slice the first 3 characters from the string \"Python Programming\"\n",
        "\n",
        "word1 =\"Python Programming\"\n",
        "print(word1[0:3])"
      ],
      "metadata": {
        "colab": {
          "base_uri": "https://localhost:8080/"
        },
        "id": "8kWQlnZJIgdh",
        "outputId": "14130eef-1abb-455e-c89d-fbe5152d1bc0"
      },
      "execution_count": 4,
      "outputs": [
        {
          "output_type": "stream",
          "name": "stdout",
          "text": [
            "Pyt\n"
          ]
        }
      ]
    },
    {
      "cell_type": "code",
      "source": [
        "# 4. Write a code to convert string \"hello\" to uppercase\n",
        "\n",
        "word2 =\"hello\"\n",
        "print(word2.upper())"
      ],
      "metadata": {
        "colab": {
          "base_uri": "https://localhost:8080/"
        },
        "id": "3yhimBjeJhfU",
        "outputId": "4d8be548-5b1c-400a-dfb2-85c0a29d3cc8"
      },
      "execution_count": 6,
      "outputs": [
        {
          "output_type": "stream",
          "name": "stdout",
          "text": [
            "HELLO\n"
          ]
        }
      ]
    },
    {
      "cell_type": "code",
      "source": [
        "# 5. Write a code to replace the word \"apple\" with \"orange\" in the string \"I like apple\"\n",
        "\n",
        "sentence = \"I like apple\"\n",
        "print(sentence.replace(\"apple\",\"orange\"))"
      ],
      "metadata": {
        "colab": {
          "base_uri": "https://localhost:8080/"
        },
        "id": "2UMBz6pfKDD0",
        "outputId": "df3c2efa-1874-41e4-9ded-b1be019243f4"
      },
      "execution_count": 10,
      "outputs": [
        {
          "output_type": "stream",
          "name": "stdout",
          "text": [
            "I like orange\n"
          ]
        }
      ]
    },
    {
      "cell_type": "code",
      "source": [
        "# 6. Write a code to create a list with numbers 1 to 5 and print it\n",
        "\n",
        "list0 = [1,2,3,4,5]\n",
        "print(list0)"
      ],
      "metadata": {
        "colab": {
          "base_uri": "https://localhost:8080/"
        },
        "id": "AKq0RS32K5ox",
        "outputId": "53b3f338-459f-4988-9cdd-d817aa2b49f8"
      },
      "execution_count": 60,
      "outputs": [
        {
          "output_type": "stream",
          "name": "stdout",
          "text": [
            "[1, 2, 3, 4, 5]\n"
          ]
        }
      ]
    },
    {
      "cell_type": "code",
      "source": [
        "# 7. Write a code to append the number 10 to the list[1,2,3,4]\n",
        "\n",
        "list1 =[1,2,3,4]\n",
        "list1.append(10)\n",
        "print(list1)"
      ],
      "metadata": {
        "colab": {
          "base_uri": "https://localhost:8080/"
        },
        "id": "mVDY-1sVLPcU",
        "outputId": "769ee6c6-e051-4b4b-e129-38ec3ca3bd88"
      },
      "execution_count": 12,
      "outputs": [
        {
          "output_type": "stream",
          "name": "stdout",
          "text": [
            "[1, 2, 3, 4, 10]\n"
          ]
        }
      ]
    },
    {
      "cell_type": "code",
      "source": [
        "# 8. Write a code to remove the number 3 from the list [1,2,3,4,5]\n",
        "\n",
        "list2 = [1,2,3,4,5]\n",
        "list2.remove(3)\n",
        "print(list2)"
      ],
      "metadata": {
        "colab": {
          "base_uri": "https://localhost:8080/"
        },
        "id": "5rGlZdHRLtU2",
        "outputId": "d6c0fa5e-62fd-46b4-a604-c7785d498bc8"
      },
      "execution_count": 13,
      "outputs": [
        {
          "output_type": "stream",
          "name": "stdout",
          "text": [
            "[1, 2, 4, 5]\n"
          ]
        }
      ]
    },
    {
      "cell_type": "code",
      "source": [
        "# 9. Write a code to access the second element in the list ['a','b','c','d']\n",
        "\n",
        "list3 = ['a','b','c','d']\n",
        "list3[1]\n"
      ],
      "metadata": {
        "colab": {
          "base_uri": "https://localhost:8080/",
          "height": 35
        },
        "id": "BSW_zp5GMERk",
        "outputId": "88fd3c34-8b1f-4ab6-8c82-bf0667b6847a"
      },
      "execution_count": 15,
      "outputs": [
        {
          "output_type": "execute_result",
          "data": {
            "text/plain": [
              "'b'"
            ],
            "application/vnd.google.colaboratory.intrinsic+json": {
              "type": "string"
            }
          },
          "metadata": {},
          "execution_count": 15
        }
      ]
    },
    {
      "cell_type": "code",
      "source": [
        "# 10. Write a code to reverse the list [10,20,30,40,50]\n",
        "\n",
        "list4 = [10,20,30,40,50]\n",
        "list4[::-1]\n"
      ],
      "metadata": {
        "colab": {
          "base_uri": "https://localhost:8080/"
        },
        "id": "9mkiUMctM4ou",
        "outputId": "62534ccc-cdbb-4b92-e449-0a7d16be2a73"
      },
      "execution_count": 16,
      "outputs": [
        {
          "output_type": "execute_result",
          "data": {
            "text/plain": [
              "[50, 40, 30, 20, 10]"
            ]
          },
          "metadata": {},
          "execution_count": 16
        }
      ]
    },
    {
      "cell_type": "code",
      "source": [
        "#11. Write a code to create a tuple with the elements 100,200,300 and print it\n",
        "\n",
        "tuple0 =(100,200,300)\n",
        "print(tuple0)"
      ],
      "metadata": {
        "colab": {
          "base_uri": "https://localhost:8080/"
        },
        "id": "9zY9xWDtNbeP",
        "outputId": "bf09a0e0-09c9-4bca-d582-10437f20b1aa"
      },
      "execution_count": 61,
      "outputs": [
        {
          "output_type": "stream",
          "name": "stdout",
          "text": [
            "(100, 200, 300)\n"
          ]
        }
      ]
    },
    {
      "cell_type": "code",
      "source": [
        "# 12. Write a code to access the second to last element of the tuple (\"red\",\"green\"blue\"yellow\")\n",
        "\n",
        "tuple1 = (\"red\",\"green\",\"blue\",\"yellow\")\n",
        "tuple1[-2]"
      ],
      "metadata": {
        "colab": {
          "base_uri": "https://localhost:8080/",
          "height": 35
        },
        "id": "QrT2koKNOG42",
        "outputId": "966660c7-fcde-41a4-82b3-d2f35d91f14f"
      },
      "execution_count": 19,
      "outputs": [
        {
          "output_type": "execute_result",
          "data": {
            "text/plain": [
              "'blue'"
            ],
            "application/vnd.google.colaboratory.intrinsic+json": {
              "type": "string"
            }
          },
          "metadata": {},
          "execution_count": 19
        }
      ]
    },
    {
      "cell_type": "code",
      "source": [
        "# 13. Write a code to find the minimum number in the tuple (10,20,5,15)\n",
        "\n",
        "tuple2 = (10,20,5,15)\n",
        "min(tuple2)"
      ],
      "metadata": {
        "colab": {
          "base_uri": "https://localhost:8080/"
        },
        "id": "c-_FJF1vOofJ",
        "outputId": "c7209cb9-a411-4513-c88e-4181e25e3821"
      },
      "execution_count": 20,
      "outputs": [
        {
          "output_type": "execute_result",
          "data": {
            "text/plain": [
              "5"
            ]
          },
          "metadata": {},
          "execution_count": 20
        }
      ]
    },
    {
      "cell_type": "code",
      "source": [
        "# 14. Write a code to find the index of the element \"cat\" in the tuple('dog,'cat','rabbit')\n",
        "\n",
        "animals = ('dog','cat','rabbit')\n",
        "animals.index('cat')"
      ],
      "metadata": {
        "colab": {
          "base_uri": "https://localhost:8080/"
        },
        "id": "n5codxTPPFJ3",
        "outputId": "fbe57940-82c6-4dbe-9147-1b901bccda38"
      },
      "execution_count": 21,
      "outputs": [
        {
          "output_type": "execute_result",
          "data": {
            "text/plain": [
              "1"
            ]
          },
          "metadata": {},
          "execution_count": 21
        }
      ]
    },
    {
      "cell_type": "code",
      "source": [
        "# 15. Write a code to create a tuple containing three different fruits and check if \"kiwi\" is in it\n",
        "\n",
        "fruits = ('apple','banana','kiwi')\n",
        "'kiwi' in fruits"
      ],
      "metadata": {
        "colab": {
          "base_uri": "https://localhost:8080/"
        },
        "id": "mf_LDsFgPsU5",
        "outputId": "9eea78f4-9cfa-44e1-870a-9f98222ceb88"
      },
      "execution_count": 25,
      "outputs": [
        {
          "output_type": "execute_result",
          "data": {
            "text/plain": [
              "True"
            ]
          },
          "metadata": {},
          "execution_count": 25
        }
      ]
    },
    {
      "cell_type": "code",
      "source": [
        "# 16. Write a code to create a set with elements \"a\",\"b\",\"c\" and print it\n",
        "\n",
        "nursery = {'a','b','c'}\n",
        "print(nursery)"
      ],
      "metadata": {
        "colab": {
          "base_uri": "https://localhost:8080/"
        },
        "id": "6FDxqfJ4QF7l",
        "outputId": "4ace33c4-0e6d-449d-c2d0-d92f0f556ae2"
      },
      "execution_count": 64,
      "outputs": [
        {
          "output_type": "stream",
          "name": "stdout",
          "text": [
            "{'c', 'b', 'a'}\n"
          ]
        }
      ]
    },
    {
      "cell_type": "code",
      "source": [
        "# 17. Write a code to clear all elements from the set {1,2,3,4,5}\n",
        "\n",
        "set1 = {1,2,3,4,5}\n",
        "set1.clear()\n",
        "print(set1)"
      ],
      "metadata": {
        "colab": {
          "base_uri": "https://localhost:8080/"
        },
        "id": "dJmLlatoQo53",
        "outputId": "34abf037-17d2-49a7-fc5d-b1fdce70f40a"
      },
      "execution_count": 24,
      "outputs": [
        {
          "output_type": "stream",
          "name": "stdout",
          "text": [
            "set()\n"
          ]
        }
      ]
    },
    {
      "cell_type": "code",
      "source": [
        "# 18. write a code to remove the element 4 from the set{1,2,3,4}\n",
        "\n",
        "set2 ={1,2,3,4}\n",
        "set2.remove(4)\n",
        "print(set2)"
      ],
      "metadata": {
        "colab": {
          "base_uri": "https://localhost:8080/"
        },
        "id": "J8K1DLFkQ7hj",
        "outputId": "b7ee1ef0-1967-47c9-f3cf-e63b12368f24"
      },
      "execution_count": 26,
      "outputs": [
        {
          "output_type": "stream",
          "name": "stdout",
          "text": [
            "{1, 2, 3}\n"
          ]
        }
      ]
    },
    {
      "cell_type": "code",
      "source": [
        "# 19. Write a code to write a union of two sets{1,2,3} and {3,4,5}\n",
        "\n",
        "set3 = {1,2,3}\n",
        "set4 = {3,4,5}\n",
        "set3|(set4)"
      ],
      "metadata": {
        "colab": {
          "base_uri": "https://localhost:8080/"
        },
        "id": "k47BQ-XrRsvJ",
        "outputId": "fa7a1607-1d52-4e05-e18e-1f6783ec284b"
      },
      "execution_count": 29,
      "outputs": [
        {
          "output_type": "execute_result",
          "data": {
            "text/plain": [
              "{1, 2, 3, 4, 5}"
            ]
          },
          "metadata": {},
          "execution_count": 29
        }
      ]
    },
    {
      "cell_type": "code",
      "source": [
        "# 20. Write a code to find the intersection of two sets {1,2,3} and {2,3,4}\n",
        "\n",
        "set5 = {1,2,3}\n",
        "set6 = {2,3,4}\n",
        "set5 & set6"
      ],
      "metadata": {
        "colab": {
          "base_uri": "https://localhost:8080/"
        },
        "id": "VoOtKJLsSOLS",
        "outputId": "d3e97cc6-e0c7-4f18-99e3-f61c9e3b0468"
      },
      "execution_count": 32,
      "outputs": [
        {
          "output_type": "execute_result",
          "data": {
            "text/plain": [
              "{2, 3}"
            ]
          },
          "metadata": {},
          "execution_count": 32
        }
      ]
    },
    {
      "cell_type": "code",
      "source": [
        "# 21. Write a code to create a dictionary withe the keys \"name\" \"age\" and \"city\"\n",
        "\n",
        "student = {\"Name\": \"Maryam\", \"Age\" : 13 ,\"City\" : \"Liverpool\"}\n",
        "print(student)"
      ],
      "metadata": {
        "colab": {
          "base_uri": "https://localhost:8080/"
        },
        "id": "__8YHuUsSw4y",
        "outputId": "7c790b77-c89b-4b99-8ef2-6290d334bb68"
      },
      "execution_count": 33,
      "outputs": [
        {
          "output_type": "stream",
          "name": "stdout",
          "text": [
            "{'Name': 'Maryam', 'Age': 13, 'City': 'Liverpool'}\n"
          ]
        }
      ]
    },
    {
      "cell_type": "code",
      "source": [
        "# 22. Write a code to add a new key-value pair \"country\" : USA to the dictionary{\"name: \"John,\"Age\":25}\n",
        "\n",
        "membership_club = {\"Name\": \"John\",\"Age\":25}\n",
        "membership_club[\"Country\"] = \"USA\"\n",
        "print(membership_club)"
      ],
      "metadata": {
        "colab": {
          "base_uri": "https://localhost:8080/"
        },
        "id": "J277ci1OT2c2",
        "outputId": "fa84254c-8a11-45f7-fae0-1c88a11232e8"
      },
      "execution_count": 34,
      "outputs": [
        {
          "output_type": "stream",
          "name": "stdout",
          "text": [
            "{'Name': 'John', 'Age': 25, 'Country': 'USA'}\n"
          ]
        }
      ]
    },
    {
      "cell_type": "code",
      "source": [
        "# 23. Write a code to access the value associated with the key \"name\" in the dictionary\n",
        "\n",
        "salon_club = {\"Name\": \"Ramsha\",\"Age\":45}\n",
        "salon_club[\"Name\"]"
      ],
      "metadata": {
        "colab": {
          "base_uri": "https://localhost:8080/",
          "height": 35
        },
        "id": "G66j9hCnUgMd",
        "outputId": "38ee03bf-7b78-4ace-d954-8971c7580e6a"
      },
      "execution_count": 35,
      "outputs": [
        {
          "output_type": "execute_result",
          "data": {
            "text/plain": [
              "'Ramsha'"
            ],
            "application/vnd.google.colaboratory.intrinsic+json": {
              "type": "string"
            }
          },
          "metadata": {},
          "execution_count": 35
        }
      ]
    },
    {
      "cell_type": "code",
      "source": [
        "# 24. Write a code to remove the key \"age\" from a dictionary {\"name: \"Alice\", \"Age\" : 30}\n",
        "\n",
        "Teachers = {\"Name\": \"Alice\", \"Age\" : 30}\n",
        "Teachers.pop(\"Age\")\n",
        "print(Teachers)"
      ],
      "metadata": {
        "colab": {
          "base_uri": "https://localhost:8080/"
        },
        "id": "F4F8oT6GVCNm",
        "outputId": "0491397e-6169-4e42-8288-323d9d0ac1b2"
      },
      "execution_count": 37,
      "outputs": [
        {
          "output_type": "stream",
          "name": "stdout",
          "text": [
            "{'Name': 'Alice'}\n"
          ]
        }
      ]
    },
    {
      "cell_type": "code",
      "source": [
        "# 25. Write a code to check if the key \"city\" exists in the dictionary{\"name\":\"Alice\", \"city\":\"New York\"}\n",
        "\n",
        "Dictionary = {\"Name\":\"Alice\", \"City\":\"New York\"}\n",
        "\"City\" in Dictionary"
      ],
      "metadata": {
        "colab": {
          "base_uri": "https://localhost:8080/"
        },
        "id": "431ZogPxVr1c",
        "outputId": "ed0c2835-c7aa-4d8e-e2e8-358318e55391"
      },
      "execution_count": 38,
      "outputs": [
        {
          "output_type": "execute_result",
          "data": {
            "text/plain": [
              "True"
            ]
          },
          "metadata": {},
          "execution_count": 38
        }
      ]
    },
    {
      "cell_type": "code",
      "source": [
        "# 26. write a code to create a list, a tuple, and a dictionary and print them all?\n",
        "\n",
        "List_1 = [1,2,3,4,5,6]\n",
        "tuple_1 = (102,102,109,110)\n",
        "Dictionary_1 = {\"Name\": \"Maryam\", \"Age\" : 13 ,\"City\" : \"Liverpool\"}\n",
        "print(List_1)\n",
        "print(tuple_1)\n",
        "print(Dictionary_1)\n",
        "\n",
        ""
      ],
      "metadata": {
        "colab": {
          "base_uri": "https://localhost:8080/"
        },
        "id": "v3z6CQJ2XLgL",
        "outputId": "873236a6-335e-4d1b-82df-ac6485f147ce"
      },
      "execution_count": 39,
      "outputs": [
        {
          "output_type": "stream",
          "name": "stdout",
          "text": [
            "[1, 2, 3, 4, 5, 6]\n",
            "(102, 102, 109, 110)\n",
            "{'Name': 'Maryam', 'Age': 13, 'City': 'Liverpool'}\n"
          ]
        }
      ]
    },
    {
      "cell_type": "code",
      "source": [
        "# 27. Write a code to create a list of 5 random numbers between 1 and 100, sort it in an ascending order and print the result\n",
        "\n",
        "List_random = [80,66,93,22,6]\n",
        "List_random.sort()\n",
        "print(List_random)"
      ],
      "metadata": {
        "colab": {
          "base_uri": "https://localhost:8080/"
        },
        "id": "9TOY0PODX2Bq",
        "outputId": "70f3b516-fd81-4858-a15c-18d037a43d32"
      },
      "execution_count": 40,
      "outputs": [
        {
          "output_type": "stream",
          "name": "stdout",
          "text": [
            "[6, 22, 66, 80, 93]\n"
          ]
        }
      ]
    },
    {
      "cell_type": "code",
      "source": [
        "# 28. Write a code to create a list with strings and print the element of the third index\n",
        "\n",
        "string = [\"i will be right back\", \"i miss you\",\" call me soon\",\"whats up\"]\n",
        "print(string[3])\n"
      ],
      "metadata": {
        "colab": {
          "base_uri": "https://localhost:8080/"
        },
        "id": "WDraIbedYa4p",
        "outputId": "a59d9034-33de-467c-8be0-8a347a87edfd"
      },
      "execution_count": 42,
      "outputs": [
        {
          "output_type": "stream",
          "name": "stdout",
          "text": [
            "whats up\n"
          ]
        }
      ]
    },
    {
      "cell_type": "code",
      "source": [
        "# 29. Write a code to combine Two dictionaries into one and print the result.\n",
        "\n",
        "dict1 = {\"a\":1, \"b\":2}\n",
        "dict2 = {\"c\":3, \"d\":4}\n",
        "dict1.update(dict2)\n",
        "print(dict1)\n"
      ],
      "metadata": {
        "colab": {
          "base_uri": "https://localhost:8080/"
        },
        "id": "DV1hXbrOZ8Mm",
        "outputId": "710c84a5-d2b6-4dde-d3df-9259dcb3ec60"
      },
      "execution_count": 43,
      "outputs": [
        {
          "output_type": "stream",
          "name": "stdout",
          "text": [
            "{'a': 1, 'b': 2, 'c': 3, 'd': 4}\n"
          ]
        }
      ]
    },
    {
      "cell_type": "code",
      "source": [
        "# 30. Write a code to convert a list of string into a set\n",
        "\n",
        "Alphabets = [\"a\",\"b\",\"c\",\"d\",\"e\"]\n"
      ],
      "metadata": {
        "id": "xtP-BCSHgJTi"
      },
      "execution_count": 73,
      "outputs": []
    },
    {
      "cell_type": "code",
      "source": [],
      "metadata": {
        "id": "NHtjpbppUvO9"
      },
      "execution_count": null,
      "outputs": []
    }
  ]
}